{
 "cells": [
  {
   "cell_type": "code",
   "execution_count": 1,
   "metadata": {},
   "outputs": [],
   "source": [
    "%load_ext autoreload \n",
    "%autoreload 2"
   ]
  },
  {
   "cell_type": "code",
   "execution_count": 3,
   "metadata": {},
   "outputs": [],
   "source": [
    "import os\n",
    "os.sys.path.append('../..')\n",
    "from qincm.qincm import QINCM\n",
    "from pathlib import Path\n",
    "import numpy as np\n",
    "import matplotlib.pyplot as plt\n",
    "import pandas as pd\n",
    "# import ipywidgets as widgets\n",
    "# from ipywidgets import interact, interactive, fixed, interact_manual\n",
    "import json\n",
    "import copy"
   ]
  },
  {
   "cell_type": "code",
   "execution_count": 4,
   "metadata": {},
   "outputs": [],
   "source": [
    "inputdir = Path('../../data')\n",
    "example_dir = Path('data')\n",
    "outputdir = Path('results')"
   ]
  },
  {
   "cell_type": "code",
   "execution_count": 5,
   "metadata": {},
   "outputs": [],
   "source": [
    "inputdir = Path('../0_preprocessing/preprocessing_15p')\n",
    "# example_dir = Path('15p/data')\n",
    "outputdir = Path('15p_results')"
   ]
  },
  {
   "cell_type": "code",
   "execution_count": 6,
   "metadata": {},
   "outputs": [],
   "source": [
    "route_depth_costs_file = inputdir / 'route_depth_costs.json'\n",
    "knelpunt_discharge_depth_file = inputdir / 'knelpunt_discharge_waterdepth.json'\n",
    "reference='BR_Duitsland'"
   ]
  },
  {
   "cell_type": "code",
   "execution_count": 7,
   "metadata": {},
   "outputs": [],
   "source": [
    "# Reference model for all simulations below\n",
    "M = QINCM(\n",
    "    route_depth_costs_file,\n",
    "    knelpunt_discharge_depth_file,\n",
    "    reference=reference\n",
    ")"
   ]
  },
  {
   "cell_type": "code",
   "execution_count": 8,
   "metadata": {},
   "outputs": [
    {
     "data": {
      "image/png": "[encoded data removed]",
      "text/plain": [
       "<Figure size 432x288 with 1 Axes>"
      ]
     },
     "metadata": {
      "needs_background": "light"
     },
     "output_type": "display_data"
    }
   ],
   "source": [
    "Q_range = np.linspace(500, 3000, 251)\n",
    "costs = M.costs_per_discharge(Q_range, ).sum(axis=1)\n",
    "\n",
    "(costs /1e6).plot(label='resultaten QINCM')\n",
    "\n",
    "ref_data = pd.read_csv(example_dir  /'Afvoer-Totale Vaarkosten per dag_inclNV_kostenperton20.csv', index_col=0).iloc[:5, 0] * 1e6\n",
    "ref_data.index = [float(i[1:]) for i in ref_data.index]\n",
    "(ref_data / 1e6).plot(ax=plt.gca(), marker='o', label='resultaten KBN (20 euro per ton niet-vervoerd)', ls=':')\n",
    "\n",
    "ref_data = pd.read_csv(example_dir  /'Afvoer-Totale Vaarkosten per dag_inclNV_kostenperton25.csv', index_col=0).iloc[:5, 0] * 1e6\n",
    "ref_data.index = [float(i[1:]) for i in ref_data.index]\n",
    "(ref_data / 1e6).plot(ax=plt.gca(), marker='o', label='resultaten KBN (25 euro per ton niet-vervoerd)', ls=':')\n",
    "\n",
    "\n",
    "plt.legend()\n",
    "plt.grid()\n",
    "plt.xlabel('Afvoer Lobith ($m^3/s$)')\n",
    "plt.ylabel('Vaarkosten per dag (mln eur)')\n",
    "plt.savefig(outputdir / 'Vaarkosten_per_dag.png', bbox_inches='tight', dpi=150)"
   ]
  },
  {
   "cell_type": "code",
   "execution_count": 10,
   "metadata": {},
   "outputs": [
    {
     "ename": "ValueError",
     "evalue": "cannot assemble the datetimes: time data '12285' does not match format '%Y%m%d' (match)",
     "output_type": "error",
     "traceback": [
      "\u001b[1;31m---------------------------------------------------------------------------\u001b[0m",
      "\u001b[1;31mTypeError\u001b[0m                                 Traceback (most recent call last)",
      "\u001b[1;32mC:\\Software\\Miniconda3\\lib\\site-packages\\pandas\\core\\tools\\datetimes.py\u001b[0m in \u001b[0;36m_convert_listlike_datetimes\u001b[1;34m(arg, format, name, tz, unit, errors, infer_datetime_format, dayfirst, yearfirst, exact)\u001b[0m\n\u001b[0;32m    455\u001b[0m             \u001b[1;32mtry\u001b[0m\u001b[1;33m:\u001b[0m\u001b[1;33m\u001b[0m\u001b[1;33m\u001b[0m\u001b[0m\n\u001b[1;32m--> 456\u001b[1;33m                 \u001b[0mvalues\u001b[0m\u001b[1;33m,\u001b[0m \u001b[0mtz\u001b[0m \u001b[1;33m=\u001b[0m \u001b[0mconversion\u001b[0m\u001b[1;33m.\u001b[0m\u001b[0mdatetime_to_datetime64\u001b[0m\u001b[1;33m(\u001b[0m\u001b[0marg\u001b[0m\u001b[1;33m)\u001b[0m\u001b[1;33m\u001b[0m\u001b[1;33m\u001b[0m\u001b[0m\n\u001b[0m\u001b[0;32m    457\u001b[0m                 \u001b[0mdta\u001b[0m \u001b[1;33m=\u001b[0m \u001b[0mDatetimeArray\u001b[0m\u001b[1;33m(\u001b[0m\u001b[0mvalues\u001b[0m\u001b[1;33m,\u001b[0m \u001b[0mdtype\u001b[0m\u001b[1;33m=\u001b[0m\u001b[0mtz_to_dtype\u001b[0m\u001b[1;33m(\u001b[0m\u001b[0mtz\u001b[0m\u001b[1;33m)\u001b[0m\u001b[1;33m)\u001b[0m\u001b[1;33m\u001b[0m\u001b[1;33m\u001b[0m\u001b[0m\n",
      "\u001b[1;32mpandas\\_libs\\tslibs\\conversion.pyx\u001b[0m in \u001b[0;36mpandas._libs.tslibs.conversion.datetime_to_datetime64\u001b[1;34m()\u001b[0m\n",
      "\u001b[1;31mTypeError\u001b[0m: Unrecognized value type: <class 'int'>",
      "\nDuring handling of the above exception, another exception occurred:\n",
      "\u001b[1;31mValueError\u001b[0m                                Traceback (most recent call last)",
      "\u001b[1;32mC:\\Software\\Miniconda3\\lib\\site-packages\\pandas\\core\\tools\\datetimes.py\u001b[0m in \u001b[0;36m_assemble_from_unit_mappings\u001b[1;34m(arg, errors, tz)\u001b[0m\n\u001b[0;32m    934\u001b[0m     \u001b[1;32mtry\u001b[0m\u001b[1;33m:\u001b[0m\u001b[1;33m\u001b[0m\u001b[1;33m\u001b[0m\u001b[0m\n\u001b[1;32m--> 935\u001b[1;33m         \u001b[0mvalues\u001b[0m \u001b[1;33m=\u001b[0m \u001b[0mto_datetime\u001b[0m\u001b[1;33m(\u001b[0m\u001b[0mvalues\u001b[0m\u001b[1;33m,\u001b[0m \u001b[0mformat\u001b[0m\u001b[1;33m=\u001b[0m\u001b[1;34m\"%Y%m%d\"\u001b[0m\u001b[1;33m,\u001b[0m \u001b[0merrors\u001b[0m\u001b[1;33m=\u001b[0m\u001b[0merrors\u001b[0m\u001b[1;33m,\u001b[0m \u001b[0mutc\u001b[0m\u001b[1;33m=\u001b[0m\u001b[0mtz\u001b[0m\u001b[1;33m)\u001b[0m\u001b[1;33m\u001b[0m\u001b[1;33m\u001b[0m\u001b[0m\n\u001b[0m\u001b[0;32m    936\u001b[0m     \u001b[1;32mexcept\u001b[0m \u001b[1;33m(\u001b[0m\u001b[0mTypeError\u001b[0m\u001b[1;33m,\u001b[0m \u001b[0mValueError\u001b[0m\u001b[1;33m)\u001b[0m \u001b[1;32mas\u001b[0m \u001b[0merr\u001b[0m\u001b[1;33m:\u001b[0m\u001b[1;33m\u001b[0m\u001b[1;33m\u001b[0m\u001b[0m\n",
      "\u001b[1;32mC:\\Software\\Miniconda3\\lib\\site-packages\\pandas\\core\\tools\\datetimes.py\u001b[0m in \u001b[0;36mto_datetime\u001b[1;34m(arg, errors, dayfirst, yearfirst, utc, format, exact, unit, infer_datetime_format, origin, cache)\u001b[0m\n\u001b[0;32m    804\u001b[0m         \u001b[1;32melse\u001b[0m\u001b[1;33m:\u001b[0m\u001b[1;33m\u001b[0m\u001b[1;33m\u001b[0m\u001b[0m\n\u001b[1;32m--> 805\u001b[1;33m             \u001b[0mvalues\u001b[0m \u001b[1;33m=\u001b[0m \u001b[0mconvert_listlike\u001b[0m\u001b[1;33m(\u001b[0m\u001b[0marg\u001b[0m\u001b[1;33m.\u001b[0m\u001b[0m_values\u001b[0m\u001b[1;33m,\u001b[0m \u001b[0mformat\u001b[0m\u001b[1;33m)\u001b[0m\u001b[1;33m\u001b[0m\u001b[1;33m\u001b[0m\u001b[0m\n\u001b[0m\u001b[0;32m    806\u001b[0m             \u001b[0mresult\u001b[0m \u001b[1;33m=\u001b[0m \u001b[0marg\u001b[0m\u001b[1;33m.\u001b[0m\u001b[0m_constructor\u001b[0m\u001b[1;33m(\u001b[0m\u001b[0mvalues\u001b[0m\u001b[1;33m,\u001b[0m \u001b[0mindex\u001b[0m\u001b[1;33m=\u001b[0m\u001b[0marg\u001b[0m\u001b[1;33m.\u001b[0m\u001b[0mindex\u001b[0m\u001b[1;33m,\u001b[0m \u001b[0mname\u001b[0m\u001b[1;33m=\u001b[0m\u001b[0marg\u001b[0m\u001b[1;33m.\u001b[0m\u001b[0mname\u001b[0m\u001b[1;33m)\u001b[0m\u001b[1;33m\u001b[0m\u001b[1;33m\u001b[0m\u001b[0m\n",
      "\u001b[1;32mC:\\Software\\Miniconda3\\lib\\site-packages\\pandas\\core\\tools\\datetimes.py\u001b[0m in \u001b[0;36m_convert_listlike_datetimes\u001b[1;34m(arg, format, name, tz, unit, errors, infer_datetime_format, dayfirst, yearfirst, exact)\u001b[0m\n\u001b[0;32m    459\u001b[0m             \u001b[1;32mexcept\u001b[0m \u001b[1;33m(\u001b[0m\u001b[0mValueError\u001b[0m\u001b[1;33m,\u001b[0m \u001b[0mTypeError\u001b[0m\u001b[1;33m)\u001b[0m\u001b[1;33m:\u001b[0m\u001b[1;33m\u001b[0m\u001b[1;33m\u001b[0m\u001b[0m\n\u001b[1;32m--> 460\u001b[1;33m                 \u001b[1;32mraise\u001b[0m \u001b[0me\u001b[0m\u001b[1;33m\u001b[0m\u001b[1;33m\u001b[0m\u001b[0m\n\u001b[0m\u001b[0;32m    461\u001b[0m \u001b[1;33m\u001b[0m\u001b[0m\n",
      "\u001b[1;32mC:\\Software\\Miniconda3\\lib\\site-packages\\pandas\\core\\tools\\datetimes.py\u001b[0m in \u001b[0;36m_convert_listlike_datetimes\u001b[1;34m(arg, format, name, tz, unit, errors, infer_datetime_format, dayfirst, yearfirst, exact)\u001b[0m\n\u001b[0;32m    422\u001b[0m                 \u001b[1;32mtry\u001b[0m\u001b[1;33m:\u001b[0m\u001b[1;33m\u001b[0m\u001b[1;33m\u001b[0m\u001b[0m\n\u001b[1;32m--> 423\u001b[1;33m                     result, timezones = array_strptime(\n\u001b[0m\u001b[0;32m    424\u001b[0m                         \u001b[0marg\u001b[0m\u001b[1;33m,\u001b[0m \u001b[0mformat\u001b[0m\u001b[1;33m,\u001b[0m \u001b[0mexact\u001b[0m\u001b[1;33m=\u001b[0m\u001b[0mexact\u001b[0m\u001b[1;33m,\u001b[0m \u001b[0merrors\u001b[0m\u001b[1;33m=\u001b[0m\u001b[0merrors\u001b[0m\u001b[1;33m\u001b[0m\u001b[1;33m\u001b[0m\u001b[0m\n",
      "\u001b[1;32mpandas\\_libs\\tslibs\\strptime.pyx\u001b[0m in \u001b[0;36mpandas._libs.tslibs.strptime.array_strptime\u001b[1;34m()\u001b[0m\n",
      "\u001b[1;31mValueError\u001b[0m: time data '12285' does not match format '%Y%m%d' (match)",
      "\nThe above exception was the direct cause of the following exception:\n",
      "\u001b[1;31mValueError\u001b[0m                                Traceback (most recent call last)",
      "\u001b[1;32m<ipython-input-10-31bf1f69b113>\u001b[0m in \u001b[0;36m<module>\u001b[1;34m\u001b[0m\n\u001b[0;32m      1\u001b[0m \u001b[0mts\u001b[0m \u001b[1;33m=\u001b[0m \u001b[0mpd\u001b[0m\u001b[1;33m.\u001b[0m\u001b[0mread_excel\u001b[0m\u001b[1;33m(\u001b[0m\u001b[0mexample_dir\u001b[0m \u001b[1;33m/\u001b[0m \u001b[1;34m'Rijn_1911_2019.xlsx'\u001b[0m\u001b[1;33m,\u001b[0m \u001b[0msheet_name\u001b[0m\u001b[1;33m=\u001b[0m\u001b[1;34m'2015_2019'\u001b[0m\u001b[1;33m,\u001b[0m \u001b[0mskiprows\u001b[0m\u001b[1;33m=\u001b[0m\u001b[1;36m5\u001b[0m\u001b[1;33m,\u001b[0m \u001b[0mheader\u001b[0m\u001b[1;33m=\u001b[0m\u001b[1;32mNone\u001b[0m\u001b[1;33m,\u001b[0m \u001b[0mindex_col\u001b[0m\u001b[1;33m=\u001b[0m\u001b[1;36m0\u001b[0m\u001b[1;33m)\u001b[0m\u001b[1;33m.\u001b[0m\u001b[0miloc\u001b[0m\u001b[1;33m[\u001b[0m\u001b[1;33m:\u001b[0m\u001b[1;33m,\u001b[0m\u001b[1;36m1\u001b[0m\u001b[1;33m:\u001b[0m\u001b[1;33m]\u001b[0m\u001b[1;33m\u001b[0m\u001b[1;33m\u001b[0m\u001b[0m\n\u001b[0;32m      2\u001b[0m \u001b[0mts\u001b[0m\u001b[1;33m.\u001b[0m\u001b[0mcolumns\u001b[0m\u001b[1;33m=\u001b[0m\u001b[1;33m[\u001b[0m\u001b[1;34m'year'\u001b[0m\u001b[1;33m,\u001b[0m \u001b[1;34m'month'\u001b[0m\u001b[1;33m,\u001b[0m \u001b[1;34m'day'\u001b[0m\u001b[1;33m,\u001b[0m \u001b[1;34m'Metingen'\u001b[0m\u001b[1;33m]\u001b[0m\u001b[1;33m\u001b[0m\u001b[1;33m\u001b[0m\u001b[0m\n\u001b[1;32m----> 3\u001b[1;33m \u001b[0mts\u001b[0m\u001b[1;33m.\u001b[0m\u001b[0mindex\u001b[0m \u001b[1;33m=\u001b[0m \u001b[0mpd\u001b[0m\u001b[1;33m.\u001b[0m\u001b[0mto_datetime\u001b[0m\u001b[1;33m(\u001b[0m\u001b[0mts\u001b[0m\u001b[1;33m[\u001b[0m\u001b[1;33m[\u001b[0m\u001b[1;34m'year'\u001b[0m\u001b[1;33m,\u001b[0m \u001b[1;34m'month'\u001b[0m\u001b[1;33m,\u001b[0m \u001b[1;34m'day'\u001b[0m\u001b[1;33m]\u001b[0m\u001b[1;33m]\u001b[0m\u001b[1;33m)\u001b[0m\u001b[1;33m\u001b[0m\u001b[1;33m\u001b[0m\u001b[0m\n\u001b[0m\u001b[0;32m      4\u001b[0m \u001b[0mts\u001b[0m\u001b[1;33m.\u001b[0m\u001b[0mdrop\u001b[0m\u001b[1;33m(\u001b[0m\u001b[1;33m[\u001b[0m\u001b[1;34m'year'\u001b[0m\u001b[1;33m,\u001b[0m \u001b[1;34m'month'\u001b[0m\u001b[1;33m,\u001b[0m \u001b[1;34m'day'\u001b[0m\u001b[1;33m]\u001b[0m\u001b[1;33m,\u001b[0m \u001b[0maxis\u001b[0m\u001b[1;33m=\u001b[0m\u001b[1;36m1\u001b[0m\u001b[1;33m,\u001b[0m \u001b[0minplace\u001b[0m\u001b[1;33m=\u001b[0m\u001b[1;32mTrue\u001b[0m\u001b[1;33m)\u001b[0m\u001b[1;33m\u001b[0m\u001b[1;33m\u001b[0m\u001b[0m\n\u001b[0;32m      5\u001b[0m \u001b[0mts\u001b[0m \u001b[1;33m=\u001b[0m \u001b[0mts\u001b[0m\u001b[1;33m[\u001b[0m\u001b[1;34m'Metingen'\u001b[0m\u001b[1;33m]\u001b[0m\u001b[1;33m\u001b[0m\u001b[1;33m\u001b[0m\u001b[0m\n",
      "\u001b[1;32mC:\\Software\\Miniconda3\\lib\\site-packages\\pandas\\core\\tools\\datetimes.py\u001b[0m in \u001b[0;36mto_datetime\u001b[1;34m(arg, errors, dayfirst, yearfirst, utc, format, exact, unit, infer_datetime_format, origin, cache)\u001b[0m\n\u001b[0;32m    806\u001b[0m             \u001b[0mresult\u001b[0m \u001b[1;33m=\u001b[0m \u001b[0marg\u001b[0m\u001b[1;33m.\u001b[0m\u001b[0m_constructor\u001b[0m\u001b[1;33m(\u001b[0m\u001b[0mvalues\u001b[0m\u001b[1;33m,\u001b[0m \u001b[0mindex\u001b[0m\u001b[1;33m=\u001b[0m\u001b[0marg\u001b[0m\u001b[1;33m.\u001b[0m\u001b[0mindex\u001b[0m\u001b[1;33m,\u001b[0m \u001b[0mname\u001b[0m\u001b[1;33m=\u001b[0m\u001b[0marg\u001b[0m\u001b[1;33m.\u001b[0m\u001b[0mname\u001b[0m\u001b[1;33m)\u001b[0m\u001b[1;33m\u001b[0m\u001b[1;33m\u001b[0m\u001b[0m\n\u001b[0;32m    807\u001b[0m     \u001b[1;32melif\u001b[0m \u001b[0misinstance\u001b[0m\u001b[1;33m(\u001b[0m\u001b[0marg\u001b[0m\u001b[1;33m,\u001b[0m \u001b[1;33m(\u001b[0m\u001b[0mABCDataFrame\u001b[0m\u001b[1;33m,\u001b[0m \u001b[0mabc\u001b[0m\u001b[1;33m.\u001b[0m\u001b[0mMutableMapping\u001b[0m\u001b[1;33m)\u001b[0m\u001b[1;33m)\u001b[0m\u001b[1;33m:\u001b[0m\u001b[1;33m\u001b[0m\u001b[1;33m\u001b[0m\u001b[0m\n\u001b[1;32m--> 808\u001b[1;33m         \u001b[0mresult\u001b[0m \u001b[1;33m=\u001b[0m \u001b[0m_assemble_from_unit_mappings\u001b[0m\u001b[1;33m(\u001b[0m\u001b[0marg\u001b[0m\u001b[1;33m,\u001b[0m \u001b[0merrors\u001b[0m\u001b[1;33m,\u001b[0m \u001b[0mtz\u001b[0m\u001b[1;33m)\u001b[0m\u001b[1;33m\u001b[0m\u001b[1;33m\u001b[0m\u001b[0m\n\u001b[0m\u001b[0;32m    809\u001b[0m     \u001b[1;32melif\u001b[0m \u001b[0misinstance\u001b[0m\u001b[1;33m(\u001b[0m\u001b[0marg\u001b[0m\u001b[1;33m,\u001b[0m \u001b[0mIndex\u001b[0m\u001b[1;33m)\u001b[0m\u001b[1;33m:\u001b[0m\u001b[1;33m\u001b[0m\u001b[1;33m\u001b[0m\u001b[0m\n\u001b[0;32m    810\u001b[0m         \u001b[0mcache_array\u001b[0m \u001b[1;33m=\u001b[0m \u001b[0m_maybe_cache\u001b[0m\u001b[1;33m(\u001b[0m\u001b[0marg\u001b[0m\u001b[1;33m,\u001b[0m \u001b[0mformat\u001b[0m\u001b[1;33m,\u001b[0m \u001b[0mcache\u001b[0m\u001b[1;33m,\u001b[0m \u001b[0mconvert_listlike\u001b[0m\u001b[1;33m)\u001b[0m\u001b[1;33m\u001b[0m\u001b[1;33m\u001b[0m\u001b[0m\n",
      "\u001b[1;32mC:\\Software\\Miniconda3\\lib\\site-packages\\pandas\\core\\tools\\datetimes.py\u001b[0m in \u001b[0;36m_assemble_from_unit_mappings\u001b[1;34m(arg, errors, tz)\u001b[0m\n\u001b[0;32m    935\u001b[0m         \u001b[0mvalues\u001b[0m \u001b[1;33m=\u001b[0m \u001b[0mto_datetime\u001b[0m\u001b[1;33m(\u001b[0m\u001b[0mvalues\u001b[0m\u001b[1;33m,\u001b[0m \u001b[0mformat\u001b[0m\u001b[1;33m=\u001b[0m\u001b[1;34m\"%Y%m%d\"\u001b[0m\u001b[1;33m,\u001b[0m \u001b[0merrors\u001b[0m\u001b[1;33m=\u001b[0m\u001b[0merrors\u001b[0m\u001b[1;33m,\u001b[0m \u001b[0mutc\u001b[0m\u001b[1;33m=\u001b[0m\u001b[0mtz\u001b[0m\u001b[1;33m)\u001b[0m\u001b[1;33m\u001b[0m\u001b[1;33m\u001b[0m\u001b[0m\n\u001b[0;32m    936\u001b[0m     \u001b[1;32mexcept\u001b[0m \u001b[1;33m(\u001b[0m\u001b[0mTypeError\u001b[0m\u001b[1;33m,\u001b[0m \u001b[0mValueError\u001b[0m\u001b[1;33m)\u001b[0m \u001b[1;32mas\u001b[0m \u001b[0merr\u001b[0m\u001b[1;33m:\u001b[0m\u001b[1;33m\u001b[0m\u001b[1;33m\u001b[0m\u001b[0m\n\u001b[1;32m--> 937\u001b[1;33m         \u001b[1;32mraise\u001b[0m \u001b[0mValueError\u001b[0m\u001b[1;33m(\u001b[0m\u001b[1;34mf\"cannot assemble the datetimes: {err}\"\u001b[0m\u001b[1;33m)\u001b[0m \u001b[1;32mfrom\u001b[0m \u001b[0merr\u001b[0m\u001b[1;33m\u001b[0m\u001b[1;33m\u001b[0m\u001b[0m\n\u001b[0m\u001b[0;32m    938\u001b[0m \u001b[1;33m\u001b[0m\u001b[0m\n\u001b[0;32m    939\u001b[0m     \u001b[1;32mfor\u001b[0m \u001b[0mu\u001b[0m \u001b[1;32min\u001b[0m \u001b[1;33m[\u001b[0m\u001b[1;34m\"h\"\u001b[0m\u001b[1;33m,\u001b[0m \u001b[1;34m\"m\"\u001b[0m\u001b[1;33m,\u001b[0m \u001b[1;34m\"s\"\u001b[0m\u001b[1;33m,\u001b[0m \u001b[1;34m\"ms\"\u001b[0m\u001b[1;33m,\u001b[0m \u001b[1;34m\"us\"\u001b[0m\u001b[1;33m,\u001b[0m \u001b[1;34m\"ns\"\u001b[0m\u001b[1;33m]\u001b[0m\u001b[1;33m:\u001b[0m\u001b[1;33m\u001b[0m\u001b[1;33m\u001b[0m\u001b[0m\n",
      "\u001b[1;31mValueError\u001b[0m: cannot assemble the datetimes: time data '12285' does not match format '%Y%m%d' (match)"
     ]
    }
   ],
   "source": [
    "ts = pd.read_excel(example_dir / 'Rijn_1911_2019.xlsx', sheet_name='2015_2019', skiprows=5, header=None, index_col=0).iloc[:,1:]\n",
    "ts.columns=['year', 'month', 'day', 'Metingen']\n",
    "ts.index = pd.to_datetime(ts[['year', 'month', 'day']])\n",
    "ts.drop(['year', 'month', 'day'], axis=1, inplace=True)\n",
    "ts = ts['Metingen']"
   ]
  },
  {
   "cell_type": "code",
   "execution_count": null,
   "metadata": {},
   "outputs": [],
   "source": [
    "(M.costs_per_discharge(ts['2018']).sum(axis=1) / 1e6).plot()\n",
    "plt.ylabel('Vaarkosten per dag (mln euro)')\n",
    "plt.ylim(6, 10)\n",
    "ax2 = plt.twinx()\n",
    "ts['2018'].plot(ax=ax2, c='C1')\n",
    "plt.ylabel('Afvoer Lobith ($m^3/s$)')\n",
    "plt.grid()\n",
    "plt.ylim(0, 4000)\n",
    "plt.savefig(outputdir / 'Vaarkosten_per_dag_tijdserie.png', bbox_inches='tight', dpi=150)"
   ]
  },
  {
   "cell_type": "code",
   "execution_count": null,
   "metadata": {},
   "outputs": [],
   "source": [
    "# Read years of average and return periods\n",
    "Q_year = pd.read_excel(example_dir / 'Average.xlsx', index_col=0)['Ref']\n",
    "\n",
    "CDF = pd.read_excel(example_dir / 'CDF.xlsx', index_col=0, header=[0, 1])\n",
    "\n",
    "# Mirror levels they were meant for overschrijdingsduur (not onderschrijdingsduur)\n",
    "CDF = CDF.rename(columns={ \n",
    "    1: 'T100', # 100 of 100\n",
    "    2: 'T2', # 50 of 100 years\n",
    "#     10: 'T10', # 10 of 100 years \n",
    "#     50: 'T2', # 2 of 100 years\n",
    "    100: 'T1' # 1 of 100\n",
    "}).drop([10, 50], axis=1, level=-1)"
   ]
  },
  {
   "cell_type": "code",
   "execution_count": null,
   "metadata": {},
   "outputs": [],
   "source": [
    "def compute_costs(M, incl_T=True):\n",
    "    scenario_results = {}\n",
    "    dt = (Q_year.index[0] - Q_year.index[1]) * 365\n",
    "    scenario_results['Gemiddeld'] = M.costs_for_scenario(Q_year.values, dt, delta=True)\n",
    "    \n",
    "    if incl_T:\n",
    "        for T in ['T1', 'T2', 'T100']:\n",
    "            dt = (CDF.index[0] - CDF.index[1]) * 365\n",
    "            scenario_results[f'{T}'] = M.costs_for_scenario(CDF[('Ref', T)].values, dt, delta=True)\n",
    "\n",
    "    scenario_results = pd.concat(scenario_results, axis=1)\n",
    "    return scenario_results\n",
    "\n",
    "scenario_results = compute_costs(M)"
   ]
  },
  {
   "cell_type": "code",
   "execution_count": null,
   "metadata": {},
   "outputs": [],
   "source": [
    "def inverselegend(outside=False, **kwargs):\n",
    "    if outside:\n",
    "        return plt.gca().legend(*map(reversed, plt.gca().get_legend_handles_labels()), loc='center left',\n",
    "                         bbox_to_anchor=(1, 0.5), **kwargs)\n",
    "    else:\n",
    "        return plt.gca().legend(*map(reversed, plt.gca().get_legend_handles_labels()), **kwargs)"
   ]
  },
  {
   "cell_type": "code",
   "execution_count": null,
   "metadata": {},
   "outputs": [],
   "source": [
    "def plot_results(scenario_results, ax):\n",
    "    plt.sca(ax)\n",
    "    if scenario_results.shape[0] < 20:\n",
    "        (scenario_results.T / 1e6).plot.bar(width=0.8, zorder=3, stacked=True, cmap='tab20', ax=ax)\n",
    "        inverselegend(outside=True)\n",
    "    else:\n",
    "        (scenario_results.sum() / 1e6).plot.bar(width=0.8, zorder=3, stacked=True, cmap='tab20', ax=ax)\n",
    "    plt.grid()\n",
    "    plt.ylabel('Toename vaarkosten (mln euro)')\n",
    "    \n",
    "    plt.ylim(0, 600)\n",
    "f, ax = plt.subplots(figsize=(4,4))\n",
    "\n",
    "KBN_ref = pd.read_excel(example_dir / 'Vaarkosten_inclNV_kostenperton20.xlsx', index_col=0)['Ref']\n",
    "KBN_ref -= KBN_ref['T1']\n",
    "KBN_ref.loc[['Gemiddeld', 'T1', 'T2', 'T100']].plot(ax=ax, zorder=4, marker='o', c='k', ls='none', markersize=4, label='KBN (20 euro per ton niet-vervoerd)')\n",
    "\n",
    "KBN_ref = pd.read_excel(example_dir / 'Vaarkosten_inclNV_kostenperton25.xlsx', index_col=0)['Ref']\n",
    "KBN_ref -= KBN_ref['T1']\n",
    "KBN_ref.loc[['Gemiddeld', 'T1', 'T2', 'T100']].plot(ax=ax, zorder=4, marker='o', c='#888888', ls='none', markersize=4, label='KBN (25 euro per ton niet-vervoerd)')\n",
    "\n",
    "plot_results(scenario_results, ax)\n",
    "inverselegend(outside=True)\n",
    "plt.savefig(outputdir / 'Kosten_per_jaar.png', bbox_inches='tight', dpi=150)"
   ]
  },
  {
   "cell_type": "code",
   "execution_count": null,
   "metadata": {},
   "outputs": [],
   "source": [
    "def plot_QVD(Q_VD, ax):\n",
    "    plt.sca(ax)\n",
    "    \n",
    "    Q_ref = [float(q) for q in Q_VD_ref[reference].keys()]\n",
    "    for k in knelpunten:\n",
    "        ax.plot(Q_ref, Q_VD[k].values())\n",
    "    plt.ylim(1, 5)\n",
    "    plt.xlabel('Discharge at reference ($m^3/s$)')\n",
    "    plt.ylabel('Waterdepth (m)')\n",
    "    plt.grid()"
   ]
  },
  {
   "cell_type": "code",
   "execution_count": null,
   "metadata": {},
   "outputs": [],
   "source": [
    "# Function correct \n",
    "def effect_correct_depth(plot=True, incl_T=True, **knelpunten):\n",
    "    Q_VD = copy.deepcopy(Q_VD_ref)\n",
    "    for k, dh in knelpunten.items():\n",
    "        for q in Q_VD[k].keys():\n",
    "            Q_VD[k][q] += dh\n",
    "        \n",
    "    M._read_knelpunt_discharge_depth(Q_VD, reference=reference)\n",
    "        \n",
    "    scenario_results = compute_costs(M, incl_T=incl_T)\n",
    "    \n",
    "    if plot:\n",
    "        # Plot results\n",
    "        f, ax = plt.subplots(figsize=(8,4), ncols=2)\n",
    "        plt.subplots_adjust(wspace=0.3)\n",
    "        plot_QVD(Q_VD, ax=ax[0])\n",
    "        plot_results(scenario_results, ax=ax[1])\n",
    "    else:\n",
    "        return scenario_results"
   ]
  },
  {
   "cell_type": "code",
   "execution_count": null,
   "metadata": {},
   "outputs": [],
   "source": [
    "with open(knelpunt_discharge_depth_file) as fin:\n",
    "    Q_VD_ref = json.load(fin)\n",
    "\n",
    "knelpunten = Q_VD_ref.keys()\n",
    "\n",
    "# Create widgets and GUI\n",
    "w = {}\n",
    "for k in knelpunten:\n",
    "    w[k] = widgets.FloatSlider(min=-0.5, max=0.5, description=k)\n",
    "ui = widgets.HBox(list(w.values()))\n",
    "\n",
    "out = widgets.interactive_output(effect_correct_depth, w)\n",
    "display(ui, out)"
   ]
  },
  {
   "cell_type": "code",
   "execution_count": null,
   "metadata": {},
   "outputs": [],
   "source": [
    "%%time\n",
    "\n",
    "D_adjust = np.linspace(-0.5, 0.5, 11) \n",
    "\n",
    "f, ax = plt.subplots()\n",
    "for k in knelpunten:\n",
    "    correction = {k: 0 for k in knelpunten}\n",
    "    \n",
    "    C = {}\n",
    "    for d in D_adjust:\n",
    "        correction[k] = d\n",
    "        c = effect_correct_depth(plot=False, incl_T=False, **correction)\n",
    "        C[d] = c.sum()['Gemiddeld']\n",
    "    C = pd.Series(C)\n",
    "    C = C - C[0]\n",
    "    C = C / 1e6\n",
    "    \n",
    "    if 'IJ' in k:\n",
    "        ls=':'\n",
    "    else:\n",
    "        ls='-'\n",
    "    \n",
    "    C.plot(label=k, ls=ls)\n",
    "    \n",
    "plt.grid()\n",
    "plt.legend()\n",
    "plt.autoscale(axis='x', tight=True)\n",
    "plt.ylabel('Verandering in jaarlijkse vaarkosten (mln eur)' )\n",
    "plt.xlabel('Verandering in waterdiepte (m)')\n",
    "plt.legend(loc='center left', bbox_to_anchor=(1, 0.5))\n",
    "plt.ylim(-30, 100)\n",
    "\n",
    "print(f'Run time for {len(knelpunten)} knelpunten, and {len(D_adjust)} variations per knelpunt (so total: {len(knelpunten) * len(D_adjust)})')\n",
    "\n",
    "plt.savefig(outputdir / 'Effect_verandering_knelpunten.png', bbox_inches='tight', dpi=150)\n",
    "\n",
    "plt.ylim(-5, 5)\n",
    "\n",
    "plt.savefig(outputdir / 'Effect_verandering_knelpunten_zoom.png', bbox_inches='tight', dpi=150)"
   ]
  },
  {
   "cell_type": "code",
   "execution_count": null,
   "metadata": {},
   "outputs": [],
   "source": [
    "%%time\n",
    "\n",
    "# Stel dat BR_DL gelijk is aan Nijmegen\n",
    "Q_VD_ref['BR_Duitsland'] = Q_VD_ref['WA_Nijmegen']\n",
    "\n",
    "\n",
    "D_adjust = np.linspace(-0.5, 0.5, 11) \n",
    "\n",
    "f, ax = plt.subplots()\n",
    "for k in knelpunten:\n",
    "    correction = {k: 0 for k in knelpunten}\n",
    "    \n",
    "    C = {}\n",
    "    for d in D_adjust:\n",
    "        correction[k] = d\n",
    "        c = effect_correct_depth(plot=False, incl_T=False, **correction)\n",
    "        C[d] = c.sum()['Gemiddeld']\n",
    "    C = pd.Series(C)\n",
    "    C = C - C[0]\n",
    "    C = C / 1e6\n",
    "    \n",
    "    if 'IJ' in k:\n",
    "        ls=':'\n",
    "    else:\n",
    "        ls='-'\n",
    "    print(k, C)\n",
    "    C.plot(label=k, ls=ls)\n",
    "    \n",
    "plt.grid()\n",
    "plt.legend()\n",
    "plt.autoscale(axis='x', tight=True)\n",
    "plt.ylabel('Verandering in jaarlijkse vaarkosten (mln eur)' )\n",
    "plt.xlabel('Verandering in waterdiepte (m)')\n",
    "plt.legend(loc='center left', bbox_to_anchor=(1, 0.5))\n",
    "plt.ylim(-30, 100)\n",
    "\n",
    "print(f'Run time for {len(knelpunten)} knelpunten, and {len(D_adjust)} variations per knelpunt (so total: {len(knelpunten) * len(D_adjust)})')\n",
    "\n",
    "plt.savefig(outputdir / 'Effect_verandering_knelpunten_DL_isgelijaan_Nijmegen.png', bbox_inches='tight', dpi=150)\n",
    "\n",
    "plt.ylim(-5, 5)\n",
    "plt.savefig(outputdir / 'Effect_verandering_knelpunten_DL_isgelijaan_Nijmegen_zoom.png', bbox_inches='tight', dpi=150)\n"
   ]
  },
  {
   "cell_type": "code",
   "execution_count": null,
   "metadata": {},
   "outputs": [],
   "source": [
    "# SImilar but with QQ"
   ]
  },
  {
   "cell_type": "code",
   "execution_count": null,
   "metadata": {},
   "outputs": [],
   "source": [
    "# Q_local = Q_year\n",
    "# dt = (Q_year.index[0] - Q_year.index[1]) * 365\n",
    "# M.costs_for_scenario(Q_local, dt, delta=True).sum()"
   ]
  },
  {
   "cell_type": "code",
   "execution_count": null,
   "metadata": {},
   "outputs": [],
   "source": [
    "# dt = (Q_year.index[0] - Q_year.index[1]) * 365\n",
    "# M.costs_for_scenario(Q_local, dt, delta=True).sum()"
   ]
  },
  {
   "cell_type": "code",
   "execution_count": null,
   "metadata": {},
   "outputs": [],
   "source": [
    "def correct_Q(Q_year, afvoer_aanpassing):\n",
    "    Q_local = np.transpose([M.knelpunt_discharge_distribution[k](Q_year) for k in knelpunten])\n",
    "    \n",
    "    for ii, k in enumerate(knelpunten):\n",
    "        Q_local[:,ii] += afvoer_aanpassing[k]\n",
    "    return Q_local"
   ]
  },
  {
   "cell_type": "code",
   "execution_count": null,
   "metadata": {},
   "outputs": [],
   "source": [
    "def compute_costs_Q(M, afvoer_aanpassing):\n",
    "    scenario_results = {}\n",
    "    dt = (Q_year.index[0] - Q_year.index[1]) * 365\n",
    "    Q_local = correct_Q(Q_year.values, afvoer_aanpassing)\n",
    "    scenario_results['Gemiddeld'] = M.costs_for_scenario(Q_local, dt, delta=True)\n",
    "\n",
    "    for T in ['T1', 'T2', 'T100']:\n",
    "        dt = (CDF.index[0] - CDF.index[1]) * 365\n",
    "        Q_local = correct_Q(CDF[('Ref', T)].values, afvoer_aanpassing)\n",
    "        scenario_results[f'{T}'] = M.costs_for_scenario(Q_local, dt, delta=True)\n",
    "\n",
    "    scenario_results = pd.concat(scenario_results, axis=1)\n",
    "    return scenario_results\n",
    "\n",
    "scenario_results = compute_costs(M)"
   ]
  },
  {
   "cell_type": "code",
   "execution_count": null,
   "metadata": {},
   "outputs": [],
   "source": [
    "def plot_Q(afvoer_aanpassing, ax):\n",
    "    plt.sca(ax)\n",
    "    \n",
    "    Q_ref = np.linspace(500, 2000, 100)\n",
    "    for ii, k in enumerate(knelpunten):\n",
    "        Q_local = M.knelpunt_discharge_distribution[k](Q_ref)\n",
    "        Q_local += afvoer_aanpassing[k]\n",
    "        ax.plot(Q_ref, Q_local, label=k)\n",
    "    plt.ylim(0, 2000)\n",
    "    plt.xlabel('Discharge at reference ($m^3/s$)')\n",
    "    plt.ylabel('Discharge local ($m^3/s$)')\n",
    "    plt.grid()\n",
    "\n",
    "# f, ax = plt.subplots()\n",
    "# plot_Q(Q_local, ax)"
   ]
  },
  {
   "cell_type": "code",
   "execution_count": null,
   "metadata": {},
   "outputs": [],
   "source": [
    "# Function correct \n",
    "def effect_correct_depth_Q(plot=True, **afvoer_aanpassing):\n",
    "\n",
    "    scenario_results = compute_costs_Q(M, afvoer_aanpassing)\n",
    "    \n",
    "    if plot:\n",
    "        # Plot results\n",
    "        f, ax = plt.subplots(figsize=(8,4), ncols=2)\n",
    "        plt.subplots_adjust(wspace=0.3)\n",
    "        plot_Q(afvoer_aanpassing, ax=ax[0])\n",
    "        plot_results(scenario_results, ax=ax[1])\n",
    "    else:\n",
    "        return scenario_results"
   ]
  },
  {
   "cell_type": "code",
   "execution_count": null,
   "metadata": {},
   "outputs": [],
   "source": [
    "with open(knelpunt_discharge_depth_file) as fin:\n",
    "    Q_VD_ref = json.load(fin)\n",
    "\n",
    "knelpunten = Q_VD_ref.keys()\n",
    "\n",
    "# Create widgets and GUI\n",
    "w = {}\n",
    "for k in knelpunten:\n",
    "    w[k] = widgets.FloatSlider(min=-100, max=100, description=k, step=10)\n",
    "ui = widgets.HBox(list(w.values()))\n",
    "\n",
    "out = widgets.interactive_output(effect_correct_depth_Q, w)\n",
    "display(ui, out)"
   ]
  },
  {
   "cell_type": "code",
   "execution_count": null,
   "metadata": {},
   "outputs": [],
   "source": [
    "%%time\n",
    "\n",
    "D_adjust = np.linspace(-100, 100, 21) \n",
    "\n",
    "f, ax = plt.subplots()\n",
    "for k in knelpunten:\n",
    "    correction = {k: 0 for k in knelpunten}\n",
    "    \n",
    "    C = {}\n",
    "    for d in D_adjust:\n",
    "        correction[k] = d\n",
    "        c = compute_costs_Q(M, correction)\n",
    "        C[d] = c.sum()['Gemiddeld']\n",
    "    C = pd.Series(C)\n",
    "    C = C - C[0]\n",
    "    C = C / 1e6\n",
    "    \n",
    "    \n",
    "    if 'IJ' in k:\n",
    "        ls=':'\n",
    "    else:\n",
    "        ls='-'\n",
    "    \n",
    "    \n",
    "    C.plot(label=k, ls=ls)\n",
    "    \n",
    "plt.grid()\n",
    "plt.legend()\n",
    "plt.autoscale(axis='x', tight=True)\n",
    "plt.ylabel('Verandering in jaarlijkse vaarkosten (mln eur)' )\n",
    "plt.xlabel('Verandering in afvoerverdeling ($m^3/s$)')\n",
    "plt.ylim(-5, 5)\n",
    "\n",
    "print(f'Run time for {len(knelpunten)} knelpunten, and {len(D_adjust)} variations per knelpunt (so total: {len(knelpunten) * len(D_adjust)})')\n",
    "plt.savefig(outputdir / 'Effect_verandering_knelpunten_afvoer.png', bbox_inches='tight', dpi=150)"
   ]
  },
  {
   "cell_type": "code",
   "execution_count": null,
   "metadata": {},
   "outputs": [],
   "source": []
  }
 ],
 "metadata": {
  "kernelspec": {
   "display_name": "Python 3",
   "language": "python",
   "name": "python3"
  },
  "language_info": {
   "codemirror_mode": {
    "name": "ipython",
    "version": 3
   },
   "file_extension": ".py",
   "mimetype": "text/x-python",
   "name": "python",
   "nbconvert_exporter": "python",
   "pygments_lexer": "ipython3",
   "version": "3.9.1"
  }
 },
 "nbformat": 4,
 "nbformat_minor": 4
}
